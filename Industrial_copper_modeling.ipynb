{
 "cells": [
  {
   "cell_type": "code",
   "execution_count": 636,
   "id": "f4f968e3",
   "metadata": {},
   "outputs": [],
   "source": [
    "import pandas as pd\n",
    "import numpy as np\n",
    "import matplotlib.pyplot as plt\n",
    "import seaborn as sns\n",
    "import warnings\n",
    "warnings.filterwarnings(\"ignore\")"
   ]
  },
  {
   "cell_type": "code",
   "execution_count": 637,
   "id": "da15aea6",
   "metadata": {},
   "outputs": [
    {
     "data": {
      "text/html": [
       "<div>\n",
       "<style scoped>\n",
       "    .dataframe tbody tr th:only-of-type {\n",
       "        vertical-align: middle;\n",
       "    }\n",
       "\n",
       "    .dataframe tbody tr th {\n",
       "        vertical-align: top;\n",
       "    }\n",
       "\n",
       "    .dataframe thead th {\n",
       "        text-align: right;\n",
       "    }\n",
       "</style>\n",
       "<table border=\"1\" class=\"dataframe\">\n",
       "  <thead>\n",
       "    <tr style=\"text-align: right;\">\n",
       "      <th></th>\n",
       "      <th>id</th>\n",
       "      <th>item_date</th>\n",
       "      <th>quantity tons</th>\n",
       "      <th>customer</th>\n",
       "      <th>country</th>\n",
       "      <th>status</th>\n",
       "      <th>item type</th>\n",
       "      <th>application</th>\n",
       "      <th>thickness</th>\n",
       "      <th>width</th>\n",
       "      <th>material_ref</th>\n",
       "      <th>product_ref</th>\n",
       "      <th>delivery date</th>\n",
       "      <th>selling_price</th>\n",
       "    </tr>\n",
       "  </thead>\n",
       "  <tbody>\n",
       "    <tr>\n",
       "      <th>0</th>\n",
       "      <td>EC06F063-9DF0-440C-8764-0B0C05A4F6AE</td>\n",
       "      <td>20210401.0</td>\n",
       "      <td>54.151139</td>\n",
       "      <td>30156308.0</td>\n",
       "      <td>28.0</td>\n",
       "      <td>Won</td>\n",
       "      <td>W</td>\n",
       "      <td>10.0</td>\n",
       "      <td>2.00</td>\n",
       "      <td>1500.0</td>\n",
       "      <td>DEQ1 S460MC</td>\n",
       "      <td>1670798778</td>\n",
       "      <td>20210701.0</td>\n",
       "      <td>854.00</td>\n",
       "    </tr>\n",
       "    <tr>\n",
       "      <th>1</th>\n",
       "      <td>4E5F4B3D-DDDF-499D-AFDE-A3227EC49425</td>\n",
       "      <td>20210401.0</td>\n",
       "      <td>768.024839</td>\n",
       "      <td>30202938.0</td>\n",
       "      <td>25.0</td>\n",
       "      <td>Won</td>\n",
       "      <td>W</td>\n",
       "      <td>41.0</td>\n",
       "      <td>0.80</td>\n",
       "      <td>1210.0</td>\n",
       "      <td>0000000000000000000000000000000000104991</td>\n",
       "      <td>1668701718</td>\n",
       "      <td>20210401.0</td>\n",
       "      <td>1047.00</td>\n",
       "    </tr>\n",
       "    <tr>\n",
       "      <th>2</th>\n",
       "      <td>E140FF1B-2407-4C02-A0DD-780A093B1158</td>\n",
       "      <td>20210401.0</td>\n",
       "      <td>386.127949</td>\n",
       "      <td>30153963.0</td>\n",
       "      <td>30.0</td>\n",
       "      <td>Won</td>\n",
       "      <td>WI</td>\n",
       "      <td>28.0</td>\n",
       "      <td>0.38</td>\n",
       "      <td>952.0</td>\n",
       "      <td>S0380700</td>\n",
       "      <td>628377</td>\n",
       "      <td>20210101.0</td>\n",
       "      <td>644.33</td>\n",
       "    </tr>\n",
       "    <tr>\n",
       "      <th>3</th>\n",
       "      <td>F8D507A0-9C62-4EFE-831E-33E1DA53BB50</td>\n",
       "      <td>20210401.0</td>\n",
       "      <td>202.411065</td>\n",
       "      <td>30349574.0</td>\n",
       "      <td>32.0</td>\n",
       "      <td>Won</td>\n",
       "      <td>S</td>\n",
       "      <td>59.0</td>\n",
       "      <td>2.30</td>\n",
       "      <td>1317.0</td>\n",
       "      <td>DX51D+ZM310MAO 2.3X1317</td>\n",
       "      <td>1668701718</td>\n",
       "      <td>20210101.0</td>\n",
       "      <td>768.00</td>\n",
       "    </tr>\n",
       "    <tr>\n",
       "      <th>4</th>\n",
       "      <td>4E1C4E78-152B-430A-8094-ADD889C9D0AD</td>\n",
       "      <td>20210401.0</td>\n",
       "      <td>785.526262</td>\n",
       "      <td>30211560.0</td>\n",
       "      <td>28.0</td>\n",
       "      <td>Won</td>\n",
       "      <td>W</td>\n",
       "      <td>10.0</td>\n",
       "      <td>4.00</td>\n",
       "      <td>2000.0</td>\n",
       "      <td>2_S275JR+AR-CL1</td>\n",
       "      <td>640665</td>\n",
       "      <td>20210301.0</td>\n",
       "      <td>577.00</td>\n",
       "    </tr>\n",
       "    <tr>\n",
       "      <th>...</th>\n",
       "      <td>...</td>\n",
       "      <td>...</td>\n",
       "      <td>...</td>\n",
       "      <td>...</td>\n",
       "      <td>...</td>\n",
       "      <td>...</td>\n",
       "      <td>...</td>\n",
       "      <td>...</td>\n",
       "      <td>...</td>\n",
       "      <td>...</td>\n",
       "      <td>...</td>\n",
       "      <td>...</td>\n",
       "      <td>...</td>\n",
       "      <td>...</td>\n",
       "    </tr>\n",
       "    <tr>\n",
       "      <th>181668</th>\n",
       "      <td>DE633116-D1DF-4846-982E-55EFC3658A76</td>\n",
       "      <td>20200702.0</td>\n",
       "      <td>102.4824216</td>\n",
       "      <td>30200854.0</td>\n",
       "      <td>25.0</td>\n",
       "      <td>Won</td>\n",
       "      <td>W</td>\n",
       "      <td>41.0</td>\n",
       "      <td>0.96</td>\n",
       "      <td>1220.0</td>\n",
       "      <td>0000000000000000000000000000000001000777</td>\n",
       "      <td>164141591</td>\n",
       "      <td>20200701.0</td>\n",
       "      <td>591.00</td>\n",
       "    </tr>\n",
       "    <tr>\n",
       "      <th>181669</th>\n",
       "      <td>A48374B1-E6DB-45F2-889A-1F9C27C099EB</td>\n",
       "      <td>20200702.0</td>\n",
       "      <td>208.0864686</td>\n",
       "      <td>30200854.0</td>\n",
       "      <td>25.0</td>\n",
       "      <td>Won</td>\n",
       "      <td>W</td>\n",
       "      <td>41.0</td>\n",
       "      <td>0.95</td>\n",
       "      <td>1500.0</td>\n",
       "      <td>0000000000000000000000000000000001000227</td>\n",
       "      <td>164141591</td>\n",
       "      <td>20200701.0</td>\n",
       "      <td>589.00</td>\n",
       "    </tr>\n",
       "    <tr>\n",
       "      <th>181670</th>\n",
       "      <td>91643238-5C7B-4237-9A5F-63AE3D35F320</td>\n",
       "      <td>20200702.0</td>\n",
       "      <td>4.235593568</td>\n",
       "      <td>30200854.0</td>\n",
       "      <td>25.0</td>\n",
       "      <td>Won</td>\n",
       "      <td>W</td>\n",
       "      <td>41.0</td>\n",
       "      <td>0.71</td>\n",
       "      <td>1250.0</td>\n",
       "      <td>0000000000000000000000000000000001004216</td>\n",
       "      <td>164141591</td>\n",
       "      <td>20200701.0</td>\n",
       "      <td>619.00</td>\n",
       "    </tr>\n",
       "    <tr>\n",
       "      <th>181671</th>\n",
       "      <td>7AFFD323-01D9-4E15-B80D-7D1B03498FC8</td>\n",
       "      <td>20200702.0</td>\n",
       "      <td>-2000</td>\n",
       "      <td>30200854.0</td>\n",
       "      <td>25.0</td>\n",
       "      <td>Won</td>\n",
       "      <td>W</td>\n",
       "      <td>41.0</td>\n",
       "      <td>0.85</td>\n",
       "      <td>1250.0</td>\n",
       "      <td>0000000000000000000000000000000001001149</td>\n",
       "      <td>164141591</td>\n",
       "      <td>20200701.0</td>\n",
       "      <td>601.00</td>\n",
       "    </tr>\n",
       "    <tr>\n",
       "      <th>181672</th>\n",
       "      <td>AD0CA853-AE3C-4B2F-9FBB-8B0B965F84BC</td>\n",
       "      <td>20200702.0</td>\n",
       "      <td>406.6865384</td>\n",
       "      <td>30200854.0</td>\n",
       "      <td>25.0</td>\n",
       "      <td>Won</td>\n",
       "      <td>W</td>\n",
       "      <td>41.0</td>\n",
       "      <td>0.71</td>\n",
       "      <td>1240.0</td>\n",
       "      <td>0000000000000000000000000000000001005439</td>\n",
       "      <td>164141591</td>\n",
       "      <td>20200701.0</td>\n",
       "      <td>607.00</td>\n",
       "    </tr>\n",
       "  </tbody>\n",
       "</table>\n",
       "<p>181673 rows × 14 columns</p>\n",
       "</div>"
      ],
      "text/plain": [
       "                                          id   item_date quantity tons  \\\n",
       "0       EC06F063-9DF0-440C-8764-0B0C05A4F6AE  20210401.0     54.151139   \n",
       "1       4E5F4B3D-DDDF-499D-AFDE-A3227EC49425  20210401.0    768.024839   \n",
       "2       E140FF1B-2407-4C02-A0DD-780A093B1158  20210401.0    386.127949   \n",
       "3       F8D507A0-9C62-4EFE-831E-33E1DA53BB50  20210401.0    202.411065   \n",
       "4       4E1C4E78-152B-430A-8094-ADD889C9D0AD  20210401.0    785.526262   \n",
       "...                                      ...         ...           ...   \n",
       "181668  DE633116-D1DF-4846-982E-55EFC3658A76  20200702.0   102.4824216   \n",
       "181669  A48374B1-E6DB-45F2-889A-1F9C27C099EB  20200702.0   208.0864686   \n",
       "181670  91643238-5C7B-4237-9A5F-63AE3D35F320  20200702.0   4.235593568   \n",
       "181671  7AFFD323-01D9-4E15-B80D-7D1B03498FC8  20200702.0         -2000   \n",
       "181672  AD0CA853-AE3C-4B2F-9FBB-8B0B965F84BC  20200702.0   406.6865384   \n",
       "\n",
       "          customer  country status item type  application  thickness   width  \\\n",
       "0       30156308.0     28.0    Won         W         10.0       2.00  1500.0   \n",
       "1       30202938.0     25.0    Won         W         41.0       0.80  1210.0   \n",
       "2       30153963.0     30.0    Won        WI         28.0       0.38   952.0   \n",
       "3       30349574.0     32.0    Won         S         59.0       2.30  1317.0   \n",
       "4       30211560.0     28.0    Won         W         10.0       4.00  2000.0   \n",
       "...            ...      ...    ...       ...          ...        ...     ...   \n",
       "181668  30200854.0     25.0    Won         W         41.0       0.96  1220.0   \n",
       "181669  30200854.0     25.0    Won         W         41.0       0.95  1500.0   \n",
       "181670  30200854.0     25.0    Won         W         41.0       0.71  1250.0   \n",
       "181671  30200854.0     25.0    Won         W         41.0       0.85  1250.0   \n",
       "181672  30200854.0     25.0    Won         W         41.0       0.71  1240.0   \n",
       "\n",
       "                                    material_ref  product_ref  delivery date  \\\n",
       "0                                    DEQ1 S460MC   1670798778     20210701.0   \n",
       "1       0000000000000000000000000000000000104991   1668701718     20210401.0   \n",
       "2                                       S0380700       628377     20210101.0   \n",
       "3                        DX51D+ZM310MAO 2.3X1317   1668701718     20210101.0   \n",
       "4                                2_S275JR+AR-CL1       640665     20210301.0   \n",
       "...                                          ...          ...            ...   \n",
       "181668  0000000000000000000000000000000001000777    164141591     20200701.0   \n",
       "181669  0000000000000000000000000000000001000227    164141591     20200701.0   \n",
       "181670  0000000000000000000000000000000001004216    164141591     20200701.0   \n",
       "181671  0000000000000000000000000000000001001149    164141591     20200701.0   \n",
       "181672  0000000000000000000000000000000001005439    164141591     20200701.0   \n",
       "\n",
       "        selling_price  \n",
       "0              854.00  \n",
       "1             1047.00  \n",
       "2              644.33  \n",
       "3              768.00  \n",
       "4              577.00  \n",
       "...               ...  \n",
       "181668         591.00  \n",
       "181669         589.00  \n",
       "181670         619.00  \n",
       "181671         601.00  \n",
       "181672         607.00  \n",
       "\n",
       "[181673 rows x 14 columns]"
      ]
     },
     "execution_count": 637,
     "metadata": {},
     "output_type": "execute_result"
    }
   ],
   "source": [
    "# Read the CSV file into a pandas dataframe\n",
    "df=pd.read_csv(r\"C:\\Users\\silam\\Copper_Set.xlsx.csv\")\n",
    "df"
   ]
  },
  {
   "cell_type": "code",
   "execution_count": 638,
   "id": "fbef6ce0",
   "metadata": {},
   "outputs": [],
   "source": [
    "#Dealing with data in wrong format for categorical variables this step is ignored\n",
    "df['item_date']=pd.to_datetime(df['item_date'],format=\"%Y%m%d\",errors='coerce').dt.date\n",
    "df['material_ref'] = df['material_ref'].str.lstrip('0')\n",
    "df['delivery date']=pd.to_datetime(df['delivery date'],format=\"%Y%m%d\",errors='coerce').dt.date\n",
    "df['quantity tons']=pd.to_numeric(df['quantity tons'],errors='coerce')\n",
    "df['customer']=pd.to_numeric(df['customer'],errors='coerce')\n",
    "df['country']=pd.to_numeric(df['country'],errors='coerce')\n",
    "df['application']=pd.to_numeric(df['application'],errors='coerce')\n",
    "df['thickness']=pd.to_numeric(df['thickness'],errors='coerce')\n",
    "df['width']=pd.to_numeric(df['width'],errors='coerce')\n",
    "df['product_ref']=pd.to_numeric(df['product_ref'],errors='coerce')\n",
    "df['selling_price']=pd.to_numeric(df['selling_price'],errors='coerce')"
   ]
  },
  {
   "cell_type": "code",
   "execution_count": 639,
   "id": "72af0fb1",
   "metadata": {},
   "outputs": [
    {
     "data": {
      "text/html": [
       "<div>\n",
       "<style scoped>\n",
       "    .dataframe tbody tr th:only-of-type {\n",
       "        vertical-align: middle;\n",
       "    }\n",
       "\n",
       "    .dataframe tbody tr th {\n",
       "        vertical-align: top;\n",
       "    }\n",
       "\n",
       "    .dataframe thead th {\n",
       "        text-align: right;\n",
       "    }\n",
       "</style>\n",
       "<table border=\"1\" class=\"dataframe\">\n",
       "  <thead>\n",
       "    <tr style=\"text-align: right;\">\n",
       "      <th></th>\n",
       "      <th>id</th>\n",
       "      <th>item_date</th>\n",
       "      <th>quantity tons</th>\n",
       "      <th>customer</th>\n",
       "      <th>country</th>\n",
       "      <th>status</th>\n",
       "      <th>item type</th>\n",
       "      <th>application</th>\n",
       "      <th>thickness</th>\n",
       "      <th>width</th>\n",
       "      <th>material_ref</th>\n",
       "      <th>product_ref</th>\n",
       "      <th>delivery date</th>\n",
       "      <th>selling_price</th>\n",
       "    </tr>\n",
       "  </thead>\n",
       "  <tbody>\n",
       "    <tr>\n",
       "      <th>0</th>\n",
       "      <td>EC06F063-9DF0-440C-8764-0B0C05A4F6AE</td>\n",
       "      <td>2021-04-01</td>\n",
       "      <td>54.151139</td>\n",
       "      <td>30156308.0</td>\n",
       "      <td>28.0</td>\n",
       "      <td>Won</td>\n",
       "      <td>W</td>\n",
       "      <td>10.0</td>\n",
       "      <td>2.00</td>\n",
       "      <td>1500.0</td>\n",
       "      <td>DEQ1 S460MC</td>\n",
       "      <td>1670798778</td>\n",
       "      <td>2021-07-01</td>\n",
       "      <td>854.00</td>\n",
       "    </tr>\n",
       "    <tr>\n",
       "      <th>1</th>\n",
       "      <td>4E5F4B3D-DDDF-499D-AFDE-A3227EC49425</td>\n",
       "      <td>2021-04-01</td>\n",
       "      <td>768.024839</td>\n",
       "      <td>30202938.0</td>\n",
       "      <td>25.0</td>\n",
       "      <td>Won</td>\n",
       "      <td>W</td>\n",
       "      <td>41.0</td>\n",
       "      <td>0.80</td>\n",
       "      <td>1210.0</td>\n",
       "      <td>104991</td>\n",
       "      <td>1668701718</td>\n",
       "      <td>2021-04-01</td>\n",
       "      <td>1047.00</td>\n",
       "    </tr>\n",
       "    <tr>\n",
       "      <th>2</th>\n",
       "      <td>E140FF1B-2407-4C02-A0DD-780A093B1158</td>\n",
       "      <td>2021-04-01</td>\n",
       "      <td>386.127949</td>\n",
       "      <td>30153963.0</td>\n",
       "      <td>30.0</td>\n",
       "      <td>Won</td>\n",
       "      <td>WI</td>\n",
       "      <td>28.0</td>\n",
       "      <td>0.38</td>\n",
       "      <td>952.0</td>\n",
       "      <td>S0380700</td>\n",
       "      <td>628377</td>\n",
       "      <td>2021-01-01</td>\n",
       "      <td>644.33</td>\n",
       "    </tr>\n",
       "    <tr>\n",
       "      <th>3</th>\n",
       "      <td>F8D507A0-9C62-4EFE-831E-33E1DA53BB50</td>\n",
       "      <td>2021-04-01</td>\n",
       "      <td>202.411065</td>\n",
       "      <td>30349574.0</td>\n",
       "      <td>32.0</td>\n",
       "      <td>Won</td>\n",
       "      <td>S</td>\n",
       "      <td>59.0</td>\n",
       "      <td>2.30</td>\n",
       "      <td>1317.0</td>\n",
       "      <td>DX51D+ZM310MAO 2.3X1317</td>\n",
       "      <td>1668701718</td>\n",
       "      <td>2021-01-01</td>\n",
       "      <td>768.00</td>\n",
       "    </tr>\n",
       "    <tr>\n",
       "      <th>4</th>\n",
       "      <td>4E1C4E78-152B-430A-8094-ADD889C9D0AD</td>\n",
       "      <td>2021-04-01</td>\n",
       "      <td>785.526262</td>\n",
       "      <td>30211560.0</td>\n",
       "      <td>28.0</td>\n",
       "      <td>Won</td>\n",
       "      <td>W</td>\n",
       "      <td>10.0</td>\n",
       "      <td>4.00</td>\n",
       "      <td>2000.0</td>\n",
       "      <td>2_S275JR+AR-CL1</td>\n",
       "      <td>640665</td>\n",
       "      <td>2021-03-01</td>\n",
       "      <td>577.00</td>\n",
       "    </tr>\n",
       "  </tbody>\n",
       "</table>\n",
       "</div>"
      ],
      "text/plain": [
       "                                     id   item_date  quantity tons  \\\n",
       "0  EC06F063-9DF0-440C-8764-0B0C05A4F6AE  2021-04-01      54.151139   \n",
       "1  4E5F4B3D-DDDF-499D-AFDE-A3227EC49425  2021-04-01     768.024839   \n",
       "2  E140FF1B-2407-4C02-A0DD-780A093B1158  2021-04-01     386.127949   \n",
       "3  F8D507A0-9C62-4EFE-831E-33E1DA53BB50  2021-04-01     202.411065   \n",
       "4  4E1C4E78-152B-430A-8094-ADD889C9D0AD  2021-04-01     785.526262   \n",
       "\n",
       "     customer  country status item type  application  thickness   width  \\\n",
       "0  30156308.0     28.0    Won         W         10.0       2.00  1500.0   \n",
       "1  30202938.0     25.0    Won         W         41.0       0.80  1210.0   \n",
       "2  30153963.0     30.0    Won        WI         28.0       0.38   952.0   \n",
       "3  30349574.0     32.0    Won         S         59.0       2.30  1317.0   \n",
       "4  30211560.0     28.0    Won         W         10.0       4.00  2000.0   \n",
       "\n",
       "              material_ref  product_ref delivery date  selling_price  \n",
       "0              DEQ1 S460MC   1670798778    2021-07-01         854.00  \n",
       "1                   104991   1668701718    2021-04-01        1047.00  \n",
       "2                 S0380700       628377    2021-01-01         644.33  \n",
       "3  DX51D+ZM310MAO 2.3X1317   1668701718    2021-01-01         768.00  \n",
       "4          2_S275JR+AR-CL1       640665    2021-03-01         577.00  "
      ]
     },
     "execution_count": 639,
     "metadata": {},
     "output_type": "execute_result"
    }
   ],
   "source": [
    "df.head()"
   ]
  },
  {
   "cell_type": "code",
   "execution_count": 640,
   "id": "e99da314",
   "metadata": {},
   "outputs": [
    {
     "name": "stdout",
     "output_type": "stream",
     "text": [
      "<class 'pandas.core.frame.DataFrame'>\n",
      "RangeIndex: 181673 entries, 0 to 181672\n",
      "Data columns (total 14 columns):\n",
      " #   Column         Non-Null Count   Dtype  \n",
      "---  ------         --------------   -----  \n",
      " 0   id             181671 non-null  object \n",
      " 1   item_date      181670 non-null  object \n",
      " 2   quantity tons  181672 non-null  float64\n",
      " 3   customer       181672 non-null  float64\n",
      " 4   country        181645 non-null  float64\n",
      " 5   status         181671 non-null  object \n",
      " 6   item type      181673 non-null  object \n",
      " 7   application    181649 non-null  float64\n",
      " 8   thickness      181672 non-null  float64\n",
      " 9   width          181673 non-null  float64\n",
      " 10  material_ref   103754 non-null  object \n",
      " 11  product_ref    181673 non-null  int64  \n",
      " 12  delivery date  181670 non-null  object \n",
      " 13  selling_price  181672 non-null  float64\n",
      "dtypes: float64(7), int64(1), object(6)\n",
      "memory usage: 19.4+ MB\n"
     ]
    }
   ],
   "source": [
    "df.info()"
   ]
  },
  {
   "cell_type": "code",
   "execution_count": 641,
   "id": "199eaffd",
   "metadata": {},
   "outputs": [
    {
     "data": {
      "text/plain": [
       "id                   2\n",
       "item_date            3\n",
       "quantity tons        1\n",
       "customer             1\n",
       "country             28\n",
       "status               2\n",
       "item type            0\n",
       "application         24\n",
       "thickness            1\n",
       "width                0\n",
       "material_ref     77919\n",
       "product_ref          0\n",
       "delivery date        3\n",
       "selling_price        1\n",
       "dtype: int64"
      ]
     },
     "execution_count": 641,
     "metadata": {},
     "output_type": "execute_result"
    }
   ],
   "source": [
    "df.isnull().sum()"
   ]
  },
  {
   "cell_type": "code",
   "execution_count": 642,
   "id": "bc780825",
   "metadata": {},
   "outputs": [],
   "source": [
    "df['material_ref'].fillna('unknown',inplace=True)\n",
    "df=df.dropna()"
   ]
  },
  {
   "cell_type": "code",
   "execution_count": 643,
   "id": "f7b12188",
   "metadata": {},
   "outputs": [
    {
     "data": {
      "text/plain": [
       "id               0\n",
       "item_date        0\n",
       "quantity tons    0\n",
       "customer         0\n",
       "country          0\n",
       "status           0\n",
       "item type        0\n",
       "application      0\n",
       "thickness        0\n",
       "width            0\n",
       "material_ref     0\n",
       "product_ref      0\n",
       "delivery date    0\n",
       "selling_price    0\n",
       "dtype: int64"
      ]
     },
     "execution_count": 643,
     "metadata": {},
     "output_type": "execute_result"
    }
   ],
   "source": [
    "df.isnull().sum()"
   ]
  },
  {
   "cell_type": "code",
   "execution_count": 644,
   "id": "9a50e8ea",
   "metadata": {},
   "outputs": [],
   "source": [
    "df_1=df.copy()"
   ]
  },
  {
   "cell_type": "code",
   "execution_count": 645,
   "id": "6e6fcc78",
   "metadata": {},
   "outputs": [],
   "source": [
    "a=df_1['quantity tons']<=0\n",
    "df_1.loc[a,'quantity tons']=np.nan\n",
    "\n",
    "b=df_1['thickness']<=0\n",
    "df_1.loc[b,'thickness']=np.nan\n",
    "\n",
    "b=df_1['selling_price']<=0\n",
    "df_1.loc[b,'selling_price']=np.nan"
   ]
  },
  {
   "cell_type": "code",
   "execution_count": 646,
   "id": "3abd8c72",
   "metadata": {},
   "outputs": [
    {
     "data": {
      "text/plain": [
       "id               0\n",
       "item_date        0\n",
       "quantity tons    4\n",
       "customer         0\n",
       "country          0\n",
       "status           0\n",
       "item type        0\n",
       "application      0\n",
       "thickness        0\n",
       "width            0\n",
       "material_ref     0\n",
       "product_ref      0\n",
       "delivery date    0\n",
       "selling_price    7\n",
       "dtype: int64"
      ]
     },
     "execution_count": 646,
     "metadata": {},
     "output_type": "execute_result"
    }
   ],
   "source": [
    "df_1.isnull().sum()"
   ]
  },
  {
   "cell_type": "code",
   "execution_count": 647,
   "id": "1fc23dd3",
   "metadata": {},
   "outputs": [],
   "source": [
    "df_1=df_1.dropna()"
   ]
  },
  {
   "cell_type": "code",
   "execution_count": 648,
   "id": "09f8a7d9",
   "metadata": {},
   "outputs": [
    {
     "data": {
      "text/plain": [
       "id               0\n",
       "item_date        0\n",
       "quantity tons    0\n",
       "customer         0\n",
       "country          0\n",
       "status           0\n",
       "item type        0\n",
       "application      0\n",
       "thickness        0\n",
       "width            0\n",
       "material_ref     0\n",
       "product_ref      0\n",
       "delivery date    0\n",
       "selling_price    0\n",
       "dtype: int64"
      ]
     },
     "execution_count": 648,
     "metadata": {},
     "output_type": "execute_result"
    }
   ],
   "source": [
    "df_1.isnull().sum()"
   ]
  },
  {
   "cell_type": "code",
   "execution_count": 649,
   "id": "2c3dc276",
   "metadata": {},
   "outputs": [],
   "source": [
    "df_1['selling_price_log']=np.log(df_1['selling_price'])\n",
    "df_1['quantity_tons_log']=np.log(df_1['quantity tons'])\n",
    "df_1['thickness_log']=np.log(df_1['thickness'])"
   ]
  },
  {
   "cell_type": "code",
   "execution_count": 650,
   "id": "50de359a",
   "metadata": {},
   "outputs": [
    {
     "data": {
      "image/png": "[encoded data removed]",
      "text/plain": [
       "<Figure size 640x480 with 1 Axes>"
      ]
     },
     "metadata": {},
     "output_type": "display_data"
    },
    {
     "data": {
      "image/png": "[encoded data removed]",
      "text/plain": [
       "<Figure size 640x480 with 1 Axes>"
      ]
     },
     "metadata": {},
     "output_type": "display_data"
    },
    {
     "data": {
      "image/png": "[encoded data removed]",
      "text/plain": [
       "<Figure size 640x480 with 1 Axes>"
      ]
     },
     "metadata": {},
     "output_type": "display_data"
    }
   ],
   "source": [
    "sns.distplot(df_1['selling_price_log'])\n",
    "plt.show()\n",
    "sns.distplot(df_1['quantity_tons_log'])\n",
    "plt.show()\n",
    "sns.distplot(df_1['thickness_log'])\n",
    "plt.show()"
   ]
  },
  {
   "cell_type": "code",
   "execution_count": 651,
   "id": "77051d16",
   "metadata": {},
   "outputs": [
    {
     "data": {
      "image/png": "[encoded data removed]",
      "text/plain": [
       "<Figure size 2000x800 with 1 Axes>"
      ]
     },
     "metadata": {},
     "output_type": "display_data"
    }
   ],
   "source": [
    "#Deduction of outliers\n",
    "plt.figure(figsize=(20,8))\n",
    "sns.boxplot(data=df_1,width=0.8)\n",
    "plt.show()"
   ]
  },
  {
   "cell_type": "code",
   "execution_count": 652,
   "id": "687eeb7e",
   "metadata": {},
   "outputs": [
    {
     "data": {
      "image/png": "[encoded data removed]",
      "text/plain": [
       "<Figure size 640x480 with 2 Axes>"
      ]
     },
     "metadata": {},
     "output_type": "display_data"
    }
   ],
   "source": [
    "plt.subplot(1,2,1)\n",
    "sns.boxplot(data=df_1['quantity tons'],width=0.8)\n",
    "plt.subplot(1,2,2)\n",
    "sns.boxplot(data=df_1['selling_price'],width=0.8)\n",
    "plt.tight_layout()\n",
    "plt.show()"
   ]
  },
  {
   "cell_type": "code",
   "execution_count": 653,
   "id": "164a27c3",
   "metadata": {},
   "outputs": [
    {
     "data": {
      "text/html": [
       "<div>\n",
       "<style scoped>\n",
       "    .dataframe tbody tr th:only-of-type {\n",
       "        vertical-align: middle;\n",
       "    }\n",
       "\n",
       "    .dataframe tbody tr th {\n",
       "        vertical-align: top;\n",
       "    }\n",
       "\n",
       "    .dataframe thead th {\n",
       "        text-align: right;\n",
       "    }\n",
       "</style>\n",
       "<table border=\"1\" class=\"dataframe\">\n",
       "  <thead>\n",
       "    <tr style=\"text-align: right;\">\n",
       "      <th></th>\n",
       "      <th>quantity tons</th>\n",
       "      <th>customer</th>\n",
       "      <th>country</th>\n",
       "      <th>application</th>\n",
       "      <th>thickness</th>\n",
       "      <th>width</th>\n",
       "      <th>product_ref</th>\n",
       "      <th>selling_price</th>\n",
       "      <th>selling_price_log</th>\n",
       "      <th>quantity_tons_log</th>\n",
       "      <th>thickness_log</th>\n",
       "    </tr>\n",
       "  </thead>\n",
       "  <tbody>\n",
       "    <tr>\n",
       "      <th>count</th>\n",
       "      <td>1.816200e+05</td>\n",
       "      <td>1.816200e+05</td>\n",
       "      <td>181620.000000</td>\n",
       "      <td>181620.000000</td>\n",
       "      <td>181620.000000</td>\n",
       "      <td>181620.000000</td>\n",
       "      <td>1.816200e+05</td>\n",
       "      <td>1.816200e+05</td>\n",
       "      <td>181620.000000</td>\n",
       "      <td>181620.000000</td>\n",
       "      <td>181620.000000</td>\n",
       "    </tr>\n",
       "    <tr>\n",
       "      <th>mean</th>\n",
       "      <td>5.876596e+03</td>\n",
       "      <td>3.023251e+07</td>\n",
       "      <td>44.894009</td>\n",
       "      <td>25.615571</td>\n",
       "      <td>2.550501</td>\n",
       "      <td>1295.269480</td>\n",
       "      <td>4.740204e+08</td>\n",
       "      <td>1.918487e+03</td>\n",
       "      <td>6.626299</td>\n",
       "      <td>3.392019</td>\n",
       "      <td>0.480172</td>\n",
       "    </tr>\n",
       "    <tr>\n",
       "      <th>std</th>\n",
       "      <td>2.349418e+06</td>\n",
       "      <td>1.005651e+05</td>\n",
       "      <td>24.404547</td>\n",
       "      <td>17.753855</td>\n",
       "      <td>2.976518</td>\n",
       "      <td>261.650874</td>\n",
       "      <td>7.175358e+08</td>\n",
       "      <td>3.318431e+05</td>\n",
       "      <td>0.564058</td>\n",
       "      <td>1.444974</td>\n",
       "      <td>0.933528</td>\n",
       "    </tr>\n",
       "    <tr>\n",
       "      <th>min</th>\n",
       "      <td>1.000000e-05</td>\n",
       "      <td>1.245800e+04</td>\n",
       "      <td>25.000000</td>\n",
       "      <td>2.000000</td>\n",
       "      <td>0.180000</td>\n",
       "      <td>1.000000</td>\n",
       "      <td>6.117280e+05</td>\n",
       "      <td>1.000000e-01</td>\n",
       "      <td>-2.302585</td>\n",
       "      <td>-11.512925</td>\n",
       "      <td>-1.714798</td>\n",
       "    </tr>\n",
       "    <tr>\n",
       "      <th>25%</th>\n",
       "      <td>1.096871e+01</td>\n",
       "      <td>3.019688e+07</td>\n",
       "      <td>26.000000</td>\n",
       "      <td>10.000000</td>\n",
       "      <td>0.700000</td>\n",
       "      <td>1179.750000</td>\n",
       "      <td>6.119930e+05</td>\n",
       "      <td>6.690000e+02</td>\n",
       "      <td>6.505784</td>\n",
       "      <td>2.395046</td>\n",
       "      <td>-0.356675</td>\n",
       "    </tr>\n",
       "    <tr>\n",
       "      <th>50%</th>\n",
       "      <td>3.036409e+01</td>\n",
       "      <td>3.020524e+07</td>\n",
       "      <td>30.000000</td>\n",
       "      <td>15.000000</td>\n",
       "      <td>1.500000</td>\n",
       "      <td>1250.000000</td>\n",
       "      <td>6.406650e+05</td>\n",
       "      <td>8.120000e+02</td>\n",
       "      <td>6.699500</td>\n",
       "      <td>3.413261</td>\n",
       "      <td>0.405465</td>\n",
       "    </tr>\n",
       "    <tr>\n",
       "      <th>75%</th>\n",
       "      <td>6.716332e+01</td>\n",
       "      <td>3.028042e+07</td>\n",
       "      <td>78.000000</td>\n",
       "      <td>41.000000</td>\n",
       "      <td>3.000000</td>\n",
       "      <td>1500.000000</td>\n",
       "      <td>1.332077e+09</td>\n",
       "      <td>9.530000e+02</td>\n",
       "      <td>6.859615</td>\n",
       "      <td>4.207127</td>\n",
       "      <td>1.098612</td>\n",
       "    </tr>\n",
       "    <tr>\n",
       "      <th>max</th>\n",
       "      <td>1.000000e+09</td>\n",
       "      <td>3.040818e+07</td>\n",
       "      <td>113.000000</td>\n",
       "      <td>99.000000</td>\n",
       "      <td>400.000000</td>\n",
       "      <td>2990.000000</td>\n",
       "      <td>1.722208e+09</td>\n",
       "      <td>1.000010e+08</td>\n",
       "      <td>18.420691</td>\n",
       "      <td>20.723266</td>\n",
       "      <td>5.991465</td>\n",
       "    </tr>\n",
       "  </tbody>\n",
       "</table>\n",
       "</div>"
      ],
      "text/plain": [
       "       quantity tons      customer        country    application  \\\n",
       "count   1.816200e+05  1.816200e+05  181620.000000  181620.000000   \n",
       "mean    5.876596e+03  3.023251e+07      44.894009      25.615571   \n",
       "std     2.349418e+06  1.005651e+05      24.404547      17.753855   \n",
       "min     1.000000e-05  1.245800e+04      25.000000       2.000000   \n",
       "25%     1.096871e+01  3.019688e+07      26.000000      10.000000   \n",
       "50%     3.036409e+01  3.020524e+07      30.000000      15.000000   \n",
       "75%     6.716332e+01  3.028042e+07      78.000000      41.000000   \n",
       "max     1.000000e+09  3.040818e+07     113.000000      99.000000   \n",
       "\n",
       "           thickness          width   product_ref  selling_price  \\\n",
       "count  181620.000000  181620.000000  1.816200e+05   1.816200e+05   \n",
       "mean        2.550501    1295.269480  4.740204e+08   1.918487e+03   \n",
       "std         2.976518     261.650874  7.175358e+08   3.318431e+05   \n",
       "min         0.180000       1.000000  6.117280e+05   1.000000e-01   \n",
       "25%         0.700000    1179.750000  6.119930e+05   6.690000e+02   \n",
       "50%         1.500000    1250.000000  6.406650e+05   8.120000e+02   \n",
       "75%         3.000000    1500.000000  1.332077e+09   9.530000e+02   \n",
       "max       400.000000    2990.000000  1.722208e+09   1.000010e+08   \n",
       "\n",
       "       selling_price_log  quantity_tons_log  thickness_log  \n",
       "count      181620.000000      181620.000000  181620.000000  \n",
       "mean            6.626299           3.392019       0.480172  \n",
       "std             0.564058           1.444974       0.933528  \n",
       "min            -2.302585         -11.512925      -1.714798  \n",
       "25%             6.505784           2.395046      -0.356675  \n",
       "50%             6.699500           3.413261       0.405465  \n",
       "75%             6.859615           4.207127       1.098612  \n",
       "max            18.420691          20.723266       5.991465  "
      ]
     },
     "execution_count": 653,
     "metadata": {},
     "output_type": "execute_result"
    }
   ],
   "source": [
    "df_1.describe()"
   ]
  },
  {
   "cell_type": "code",
   "execution_count": 654,
   "id": "a7e6605a",
   "metadata": {},
   "outputs": [
    {
     "name": "stdout",
     "output_type": "stream",
     "text": [
      "1215.142581482003\n",
      "1316.741778152002\n",
      "1461.6806040009678\n",
      "1550.5082807620088\n",
      "1767.8017327849984\n",
      "2006.585464020002\n",
      "2506.371653978002\n",
      "3207.6683439119984\n",
      "4894.557015787225\n",
      "1000000000.0\n"
     ]
    }
   ],
   "source": [
    "print(np.percentile(df_1['quantity tons'],99.1))\n",
    "print(np.percentile(df_1['quantity tons'],99.2))\n",
    "print(np.percentile(df_1['quantity tons'],99.3))\n",
    "print(np.percentile(df_1['quantity tons'],99.4))\n",
    "print(np.percentile(df_1['quantity tons'],99.5))\n",
    "print(np.percentile(df_1['quantity tons'],99.6))\n",
    "print(np.percentile(df_1['quantity tons'],99.7))\n",
    "print(np.percentile(df_1['quantity tons'],99.8))\n",
    "print(np.percentile(df_1['quantity tons'],99.9))\n",
    "print(np.percentile(df_1['quantity tons'],100))"
   ]
  },
  {
   "cell_type": "code",
   "execution_count": 655,
   "id": "1f1445ed",
   "metadata": {},
   "outputs": [
    {
     "name": "stdout",
     "output_type": "stream",
     "text": [
      "1385.0\n",
      "1398.0\n",
      "1415.3268299999936\n",
      "1441.0\n",
      "1467.0\n",
      "1501.524000000005\n",
      "1542.0\n",
      "1588.8357799999917\n",
      "1698.0\n",
      "100001015.0\n"
     ]
    }
   ],
   "source": [
    "print(np.percentile(df_1['selling_price'],99.1))\n",
    "print(np.percentile(df_1['selling_price'],99.2))\n",
    "print(np.percentile(df_1['selling_price'],99.3))\n",
    "print(np.percentile(df_1['selling_price'],99.4))\n",
    "print(np.percentile(df_1['selling_price'],99.5))\n",
    "print(np.percentile(df_1['selling_price'],99.6))\n",
    "print(np.percentile(df_1['selling_price'],99.7))\n",
    "print(np.percentile(df_1['selling_price'],99.8))\n",
    "print(np.percentile(df_1['selling_price'],99.9))\n",
    "print(np.percentile(df_1['selling_price'],100))"
   ]
  },
  {
   "cell_type": "code",
   "execution_count": 656,
   "id": "d1fa0f09",
   "metadata": {},
   "outputs": [],
   "source": [
    "#Outliers Handaling\n",
    "p_05 = df_1['selling_price'].quantile(0.05) # 5th quantile\n",
    "p_999 = df_1['selling_price'].quantile(0.999) # 99.9th quantile\n",
    "\n",
    "df_1['selling_price'].clip(p_05, p_999, inplace=True)"
   ]
  },
  {
   "cell_type": "code",
   "execution_count": 657,
   "id": "65b73d5e",
   "metadata": {},
   "outputs": [],
   "source": [
    "p_05 = df_1['quantity tons'].quantile(0.05) # 5th quantile\n",
    "p_999 = df_1['quantity tons'].quantile(0.999) # 99.9th quantile\n",
    "\n",
    "df_1['quantity tons'].clip(p_05, p_999, inplace=True)"
   ]
  },
  {
   "cell_type": "code",
   "execution_count": 658,
   "id": "ca6e67e8",
   "metadata": {},
   "outputs": [
    {
     "name": "stdout",
     "output_type": "stream",
     "text": [
      "15.0\n",
      "15.0\n",
      "15.0\n",
      "15.0\n",
      "15.0\n",
      "15.0\n",
      "16.0\n",
      "20.0\n",
      "20.0\n",
      "400.0\n"
     ]
    }
   ],
   "source": [
    "print(np.percentile(df_1['thickness'],99.1))\n",
    "print(np.percentile(df_1['thickness'],99.2))\n",
    "print(np.percentile(df_1['thickness'],99.3))\n",
    "print(np.percentile(df_1['thickness'],99.4))\n",
    "print(np.percentile(df_1['thickness'],99.5))\n",
    "print(np.percentile(df_1['thickness'],99.6))\n",
    "print(np.percentile(df_1['thickness'],99.7))\n",
    "print(np.percentile(df_1['thickness'],99.8))\n",
    "print(np.percentile(df_1['thickness'],99.9))\n",
    "print(np.percentile(df_1['thickness'],100))"
   ]
  },
  {
   "cell_type": "code",
   "execution_count": 659,
   "id": "8c1c6e01",
   "metadata": {},
   "outputs": [],
   "source": [
    "p_05 = df_1['thickness'].quantile(0.05) # 5th quantile\n",
    "p_999 = df_1['thickness'].quantile(0.999) # 99.9th quantile\n",
    "\n",
    "df_1['thickness'].clip(p_05, p_999, inplace=True)"
   ]
  },
  {
   "cell_type": "code",
   "execution_count": 660,
   "id": "d9276c22",
   "metadata": {},
   "outputs": [
    {
     "data": {
      "text/html": [
       "<div>\n",
       "<style scoped>\n",
       "    .dataframe tbody tr th:only-of-type {\n",
       "        vertical-align: middle;\n",
       "    }\n",
       "\n",
       "    .dataframe tbody tr th {\n",
       "        vertical-align: top;\n",
       "    }\n",
       "\n",
       "    .dataframe thead th {\n",
       "        text-align: right;\n",
       "    }\n",
       "</style>\n",
       "<table border=\"1\" class=\"dataframe\">\n",
       "  <thead>\n",
       "    <tr style=\"text-align: right;\">\n",
       "      <th></th>\n",
       "      <th>quantity tons</th>\n",
       "      <th>customer</th>\n",
       "      <th>country</th>\n",
       "      <th>application</th>\n",
       "      <th>thickness</th>\n",
       "      <th>width</th>\n",
       "      <th>product_ref</th>\n",
       "      <th>selling_price</th>\n",
       "      <th>selling_price_log</th>\n",
       "      <th>quantity_tons_log</th>\n",
       "      <th>thickness_log</th>\n",
       "    </tr>\n",
       "  </thead>\n",
       "  <tbody>\n",
       "    <tr>\n",
       "      <th>count</th>\n",
       "      <td>181620.000000</td>\n",
       "      <td>1.816200e+05</td>\n",
       "      <td>181620.000000</td>\n",
       "      <td>181620.000000</td>\n",
       "      <td>181620.000000</td>\n",
       "      <td>181620.000000</td>\n",
       "      <td>1.816200e+05</td>\n",
       "      <td>181620.000000</td>\n",
       "      <td>181620.000000</td>\n",
       "      <td>181620.000000</td>\n",
       "      <td>181620.000000</td>\n",
       "    </tr>\n",
       "    <tr>\n",
       "      <th>mean</th>\n",
       "      <td>91.112231</td>\n",
       "      <td>3.023251e+07</td>\n",
       "      <td>44.894009</td>\n",
       "      <td>25.615571</td>\n",
       "      <td>2.549196</td>\n",
       "      <td>1295.269480</td>\n",
       "      <td>4.740204e+08</td>\n",
       "      <td>826.349623</td>\n",
       "      <td>6.626299</td>\n",
       "      <td>3.392019</td>\n",
       "      <td>0.480172</td>\n",
       "    </tr>\n",
       "    <tr>\n",
       "      <th>std</th>\n",
       "      <td>279.059391</td>\n",
       "      <td>1.005651e+05</td>\n",
       "      <td>24.404547</td>\n",
       "      <td>17.753855</td>\n",
       "      <td>2.813705</td>\n",
       "      <td>261.650874</td>\n",
       "      <td>7.175358e+08</td>\n",
       "      <td>200.516907</td>\n",
       "      <td>0.564058</td>\n",
       "      <td>1.444974</td>\n",
       "      <td>0.933528</td>\n",
       "    </tr>\n",
       "    <tr>\n",
       "      <th>min</th>\n",
       "      <td>2.892097</td>\n",
       "      <td>1.245800e+04</td>\n",
       "      <td>25.000000</td>\n",
       "      <td>2.000000</td>\n",
       "      <td>0.450000</td>\n",
       "      <td>1.000000</td>\n",
       "      <td>6.117280e+05</td>\n",
       "      <td>521.000000</td>\n",
       "      <td>-2.302585</td>\n",
       "      <td>-11.512925</td>\n",
       "      <td>-1.714798</td>\n",
       "    </tr>\n",
       "    <tr>\n",
       "      <th>25%</th>\n",
       "      <td>10.968706</td>\n",
       "      <td>3.019688e+07</td>\n",
       "      <td>26.000000</td>\n",
       "      <td>10.000000</td>\n",
       "      <td>0.700000</td>\n",
       "      <td>1179.750000</td>\n",
       "      <td>6.119930e+05</td>\n",
       "      <td>669.000000</td>\n",
       "      <td>6.505784</td>\n",
       "      <td>2.395046</td>\n",
       "      <td>-0.356675</td>\n",
       "    </tr>\n",
       "    <tr>\n",
       "      <th>50%</th>\n",
       "      <td>30.364095</td>\n",
       "      <td>3.020524e+07</td>\n",
       "      <td>30.000000</td>\n",
       "      <td>15.000000</td>\n",
       "      <td>1.500000</td>\n",
       "      <td>1250.000000</td>\n",
       "      <td>6.406650e+05</td>\n",
       "      <td>812.000000</td>\n",
       "      <td>6.699500</td>\n",
       "      <td>3.413261</td>\n",
       "      <td>0.405465</td>\n",
       "    </tr>\n",
       "    <tr>\n",
       "      <th>75%</th>\n",
       "      <td>67.163321</td>\n",
       "      <td>3.028042e+07</td>\n",
       "      <td>78.000000</td>\n",
       "      <td>41.000000</td>\n",
       "      <td>3.000000</td>\n",
       "      <td>1500.000000</td>\n",
       "      <td>1.332077e+09</td>\n",
       "      <td>953.000000</td>\n",
       "      <td>6.859615</td>\n",
       "      <td>4.207127</td>\n",
       "      <td>1.098612</td>\n",
       "    </tr>\n",
       "    <tr>\n",
       "      <th>max</th>\n",
       "      <td>4894.557016</td>\n",
       "      <td>3.040818e+07</td>\n",
       "      <td>113.000000</td>\n",
       "      <td>99.000000</td>\n",
       "      <td>20.000000</td>\n",
       "      <td>2990.000000</td>\n",
       "      <td>1.722208e+09</td>\n",
       "      <td>1698.000000</td>\n",
       "      <td>18.420691</td>\n",
       "      <td>20.723266</td>\n",
       "      <td>5.991465</td>\n",
       "    </tr>\n",
       "  </tbody>\n",
       "</table>\n",
       "</div>"
      ],
      "text/plain": [
       "       quantity tons      customer        country    application  \\\n",
       "count  181620.000000  1.816200e+05  181620.000000  181620.000000   \n",
       "mean       91.112231  3.023251e+07      44.894009      25.615571   \n",
       "std       279.059391  1.005651e+05      24.404547      17.753855   \n",
       "min         2.892097  1.245800e+04      25.000000       2.000000   \n",
       "25%        10.968706  3.019688e+07      26.000000      10.000000   \n",
       "50%        30.364095  3.020524e+07      30.000000      15.000000   \n",
       "75%        67.163321  3.028042e+07      78.000000      41.000000   \n",
       "max      4894.557016  3.040818e+07     113.000000      99.000000   \n",
       "\n",
       "           thickness          width   product_ref  selling_price  \\\n",
       "count  181620.000000  181620.000000  1.816200e+05  181620.000000   \n",
       "mean        2.549196    1295.269480  4.740204e+08     826.349623   \n",
       "std         2.813705     261.650874  7.175358e+08     200.516907   \n",
       "min         0.450000       1.000000  6.117280e+05     521.000000   \n",
       "25%         0.700000    1179.750000  6.119930e+05     669.000000   \n",
       "50%         1.500000    1250.000000  6.406650e+05     812.000000   \n",
       "75%         3.000000    1500.000000  1.332077e+09     953.000000   \n",
       "max        20.000000    2990.000000  1.722208e+09    1698.000000   \n",
       "\n",
       "       selling_price_log  quantity_tons_log  thickness_log  \n",
       "count      181620.000000      181620.000000  181620.000000  \n",
       "mean            6.626299           3.392019       0.480172  \n",
       "std             0.564058           1.444974       0.933528  \n",
       "min            -2.302585         -11.512925      -1.714798  \n",
       "25%             6.505784           2.395046      -0.356675  \n",
       "50%             6.699500           3.413261       0.405465  \n",
       "75%             6.859615           4.207127       1.098612  \n",
       "max            18.420691          20.723266       5.991465  "
      ]
     },
     "execution_count": 660,
     "metadata": {},
     "output_type": "execute_result"
    }
   ],
   "source": [
    "df_1.describe()"
   ]
  },
  {
   "cell_type": "code",
   "execution_count": null,
   "id": "3f8f5ff7",
   "metadata": {},
   "outputs": [],
   "source": [
    "#DECISION TREE REGRESSOR\n",
    "#1 Encode categorical features\n",
    "#2 Test and Train split\n",
    "#3 Define Hyperparameters for GridSearchCV\n",
    "#4 Train the DecisionTreeRegressor with best parameters\n",
    "#5 Evalution metrics\n",
    "#6 Predict the selling price for new values\n",
    "#7 Save the DecisionTreeRegressor model"
   ]
  },
  {
   "cell_type": "code",
   "execution_count": 661,
   "id": "abf2a689",
   "metadata": {},
   "outputs": [],
   "source": [
    "from sklearn.preprocessing import OrdinalEncoder,OneHotEncoder\n",
    "from sklearn.preprocessing import StandardScaler,LabelBinarizer\n",
    "from sklearn.model_selection import train_test_split"
   ]
  },
  {
   "cell_type": "code",
   "execution_count": 662,
   "id": "6f4a016c",
   "metadata": {},
   "outputs": [],
   "source": [
    "x=df_1[['quantity_tons_log','status','item type','application','thickness_log','width','country','customer','product_ref']]\n",
    "y=df_1['selling_price_log']"
   ]
  },
  {
   "cell_type": "code",
   "execution_count": 663,
   "id": "d7d0e80f",
   "metadata": {},
   "outputs": [],
   "source": [
    "ohe = OneHotEncoder(handle_unknown='ignore')\n",
    "ohe.fit(x[['item type']])\n",
    "x_ohe = ohe.fit_transform(x[['item type']]).toarray()\n",
    "x_be = ohe.fit_transform(x[['status']]).toarray()\n",
    "# independent features after encoding\n",
    "x = np.concatenate((x[['quantity_tons_log', 'application', 'thickness_log', 'width','country','customer','product_ref']].values, x_ohe, x_be), axis=1)\n"
   ]
  },
  {
   "cell_type": "code",
   "execution_count": 664,
   "id": "0ca0d458",
   "metadata": {},
   "outputs": [],
   "source": [
    "X=df_1[['quantity_tons_log','application','thickness_log','width','selling_price_log','country','customer','product_ref']].corr()\n"
   ]
  },
  {
   "cell_type": "code",
   "execution_count": 665,
   "id": "303c630d",
   "metadata": {},
   "outputs": [
    {
     "data": {
      "text/html": [
       "<div>\n",
       "<style scoped>\n",
       "    .dataframe tbody tr th:only-of-type {\n",
       "        vertical-align: middle;\n",
       "    }\n",
       "\n",
       "    .dataframe tbody tr th {\n",
       "        vertical-align: top;\n",
       "    }\n",
       "\n",
       "    .dataframe thead th {\n",
       "        text-align: right;\n",
       "    }\n",
       "</style>\n",
       "<table border=\"1\" class=\"dataframe\">\n",
       "  <thead>\n",
       "    <tr style=\"text-align: right;\">\n",
       "      <th></th>\n",
       "      <th>quantity_tons_log</th>\n",
       "      <th>application</th>\n",
       "      <th>thickness_log</th>\n",
       "      <th>width</th>\n",
       "      <th>selling_price_log</th>\n",
       "      <th>country</th>\n",
       "      <th>customer</th>\n",
       "      <th>product_ref</th>\n",
       "    </tr>\n",
       "  </thead>\n",
       "  <tbody>\n",
       "    <tr>\n",
       "      <th>quantity_tons_log</th>\n",
       "      <td>1.000000</td>\n",
       "      <td>0.026470</td>\n",
       "      <td>-0.099483</td>\n",
       "      <td>-0.128144</td>\n",
       "      <td>-0.088082</td>\n",
       "      <td>-0.336766</td>\n",
       "      <td>-0.045384</td>\n",
       "      <td>-0.007129</td>\n",
       "    </tr>\n",
       "    <tr>\n",
       "      <th>application</th>\n",
       "      <td>0.026470</td>\n",
       "      <td>1.000000</td>\n",
       "      <td>-0.557527</td>\n",
       "      <td>-0.539567</td>\n",
       "      <td>0.038193</td>\n",
       "      <td>-0.075403</td>\n",
       "      <td>-0.108172</td>\n",
       "      <td>-0.350521</td>\n",
       "    </tr>\n",
       "    <tr>\n",
       "      <th>thickness_log</th>\n",
       "      <td>-0.099483</td>\n",
       "      <td>-0.557527</td>\n",
       "      <td>1.000000</td>\n",
       "      <td>0.593963</td>\n",
       "      <td>-0.468711</td>\n",
       "      <td>-0.259646</td>\n",
       "      <td>-0.045425</td>\n",
       "      <td>0.325403</td>\n",
       "    </tr>\n",
       "    <tr>\n",
       "      <th>width</th>\n",
       "      <td>-0.128144</td>\n",
       "      <td>-0.539567</td>\n",
       "      <td>0.593963</td>\n",
       "      <td>1.000000</td>\n",
       "      <td>-0.331638</td>\n",
       "      <td>-0.022864</td>\n",
       "      <td>-0.059080</td>\n",
       "      <td>-0.103858</td>\n",
       "    </tr>\n",
       "    <tr>\n",
       "      <th>selling_price_log</th>\n",
       "      <td>-0.088082</td>\n",
       "      <td>0.038193</td>\n",
       "      <td>-0.468711</td>\n",
       "      <td>-0.331638</td>\n",
       "      <td>1.000000</td>\n",
       "      <td>-0.138868</td>\n",
       "      <td>-0.143287</td>\n",
       "      <td>-0.128804</td>\n",
       "    </tr>\n",
       "    <tr>\n",
       "      <th>country</th>\n",
       "      <td>-0.336766</td>\n",
       "      <td>-0.075403</td>\n",
       "      <td>-0.259646</td>\n",
       "      <td>-0.022864</td>\n",
       "      <td>-0.138868</td>\n",
       "      <td>1.000000</td>\n",
       "      <td>0.041174</td>\n",
       "      <td>-0.421556</td>\n",
       "    </tr>\n",
       "    <tr>\n",
       "      <th>customer</th>\n",
       "      <td>-0.045384</td>\n",
       "      <td>-0.108172</td>\n",
       "      <td>-0.045425</td>\n",
       "      <td>-0.059080</td>\n",
       "      <td>-0.143287</td>\n",
       "      <td>0.041174</td>\n",
       "      <td>1.000000</td>\n",
       "      <td>-0.229392</td>\n",
       "    </tr>\n",
       "    <tr>\n",
       "      <th>product_ref</th>\n",
       "      <td>-0.007129</td>\n",
       "      <td>-0.350521</td>\n",
       "      <td>0.325403</td>\n",
       "      <td>-0.103858</td>\n",
       "      <td>-0.128804</td>\n",
       "      <td>-0.421556</td>\n",
       "      <td>-0.229392</td>\n",
       "      <td>1.000000</td>\n",
       "    </tr>\n",
       "  </tbody>\n",
       "</table>\n",
       "</div>"
      ],
      "text/plain": [
       "                   quantity_tons_log  application  thickness_log     width  \\\n",
       "quantity_tons_log           1.000000     0.026470      -0.099483 -0.128144   \n",
       "application                 0.026470     1.000000      -0.557527 -0.539567   \n",
       "thickness_log              -0.099483    -0.557527       1.000000  0.593963   \n",
       "width                      -0.128144    -0.539567       0.593963  1.000000   \n",
       "selling_price_log          -0.088082     0.038193      -0.468711 -0.331638   \n",
       "country                    -0.336766    -0.075403      -0.259646 -0.022864   \n",
       "customer                   -0.045384    -0.108172      -0.045425 -0.059080   \n",
       "product_ref                -0.007129    -0.350521       0.325403 -0.103858   \n",
       "\n",
       "                   selling_price_log   country  customer  product_ref  \n",
       "quantity_tons_log          -0.088082 -0.336766 -0.045384    -0.007129  \n",
       "application                 0.038193 -0.075403 -0.108172    -0.350521  \n",
       "thickness_log              -0.468711 -0.259646 -0.045425     0.325403  \n",
       "width                      -0.331638 -0.022864 -0.059080    -0.103858  \n",
       "selling_price_log           1.000000 -0.138868 -0.143287    -0.128804  \n",
       "country                    -0.138868  1.000000  0.041174    -0.421556  \n",
       "customer                   -0.143287  0.041174  1.000000    -0.229392  \n",
       "product_ref                -0.128804 -0.421556 -0.229392     1.000000  "
      ]
     },
     "execution_count": 665,
     "metadata": {},
     "output_type": "execute_result"
    }
   ],
   "source": [
    "X.corr()"
   ]
  },
  {
   "cell_type": "code",
   "execution_count": 666,
   "id": "25ab72ab",
   "metadata": {},
   "outputs": [
    {
     "data": {
      "image/png": "[encoded data removed]",
      "text/plain": [
       "<Figure size 1600x800 with 2 Axes>"
      ]
     },
     "metadata": {},
     "output_type": "display_data"
    }
   ],
   "source": [
    "fig,ax=plt.subplots(figsize=(16,8))\n",
    "sns.heatmap(X.corr(),annot=True,fmt='1.2f',annot_kws={'size':10},linewidth=1,cmap='coolwarm')\n",
    "plt.show()"
   ]
  },
  {
   "cell_type": "code",
   "execution_count": 667,
   "id": "df65b989",
   "metadata": {},
   "outputs": [
    {
     "data": {
      "text/plain": [
       "array([[ 0.41506739, -0.87956189,  0.22814024, ..., -0.15323927,\n",
       "         0.75215932, -0.00234649],\n",
       "       [ 2.25042993,  0.8665426 , -0.75339772, ..., -0.15323927,\n",
       "         0.75215932, -0.00234649],\n",
       "       [ 1.77453529,  0.13430523, -1.55084831, ..., -0.15323927,\n",
       "         0.75215932, -0.00234649],\n",
       "       ...,\n",
       "       [ 1.34669579,  0.8665426 , -0.56931035, ..., -0.15323927,\n",
       "         0.75215932, -0.00234649],\n",
       "       [-1.34846834,  0.8665426 , -0.88124292, ..., -0.15323927,\n",
       "         0.75215932, -0.00234649],\n",
       "       [ 1.81043496,  0.8665426 , -0.88124292, ..., -0.15323927,\n",
       "         0.75215932, -0.00234649]])"
      ]
     },
     "execution_count": 667,
     "metadata": {},
     "output_type": "execute_result"
    }
   ],
   "source": [
    "\n",
    "ss=StandardScaler()\n",
    "ss.fit_transform(x)"
   ]
  },
  {
   "cell_type": "code",
   "execution_count": 668,
   "id": "9cb7dd24",
   "metadata": {},
   "outputs": [],
   "source": [
    "x=df_1[['quantity_tons_log','status','item type','application','thickness_log','width','country','customer','product_ref']]\n",
    "y=df_1['selling_price_log']\n",
    "ohe = OneHotEncoder(handle_unknown='ignore')\n",
    "ohe.fit(x[['item type']])\n",
    "x_ohe = ohe.fit_transform(x[['item type']]).toarray()\n",
    "ohe2 = OneHotEncoder(handle_unknown='ignore')\n",
    "ohe2.fit(x[['status']])\n",
    "x_be = ohe2.fit_transform(x[['status']]).toarray()\n",
    "# independent features after encoding\n",
    "x = np.concatenate((x[['quantity_tons_log', 'application', 'thickness_log', 'width','country','customer','product_ref']].values, x_ohe, x_be), axis=1)\n"
   ]
  },
  {
   "cell_type": "code",
   "execution_count": 669,
   "id": "76c26ce9",
   "metadata": {},
   "outputs": [],
   "source": [
    "x_train,x_test,y_train,y_test=train_test_split(x,y,test_size=0.2,random_state=42)"
   ]
  },
  {
   "cell_type": "code",
   "execution_count": 670,
   "id": "43366b38",
   "metadata": {},
   "outputs": [
    {
     "name": "stdout",
     "output_type": "stream",
     "text": [
      "(145296, 23)\n",
      "(36324, 23)\n",
      "(145296,)\n",
      "(36324,)\n"
     ]
    }
   ],
   "source": [
    "\n",
    "x_train.shape,x_test.shape\n",
    "print(x_train.shape)\n",
    "print(x_test.shape)\n",
    "print(y_train.shape)\n",
    "print(y_test.shape)"
   ]
  },
  {
   "cell_type": "code",
   "execution_count": 671,
   "id": "a8b35888",
   "metadata": {},
   "outputs": [],
   "source": [
    "from sklearn.tree import DecisionTreeRegressor\n",
    "from sklearn.linear_model import LinearRegression\n",
    "from sklearn.model_selection import GridSearchCV\n",
    "from sklearn.ensemble import RandomForestRegressor\n",
    "from sklearn.ensemble import GradientBoostingRegressor\n",
    "from sklearn.metrics import mean_squared_error\n",
    "from sklearn import metrics"
   ]
  },
  {
   "cell_type": "code",
   "execution_count": 672,
   "id": "81497d13",
   "metadata": {},
   "outputs": [
    {
     "name": "stdout",
     "output_type": "stream",
     "text": [
      "0.8529235688945427\n",
      "0.8633590967845692\n"
     ]
    }
   ],
   "source": [
    "lr=LinearRegression()\n",
    "lr.fit(x_train,y_train)\n",
    "print(lr.score(x_train, y_train))\n",
    "print(lr.score(x_test, y_test))"
   ]
  },
  {
   "cell_type": "code",
   "execution_count": 673,
   "id": "d7e09d97",
   "metadata": {},
   "outputs": [
    {
     "name": "stdout",
     "output_type": "stream",
     "text": [
      "0.04669480506140232\n"
     ]
    }
   ],
   "source": [
    "training_data_pred=lr.predict(x_train)\n",
    "error_score=mean_squared_error(y_train,training_data_pred)\n",
    "print(error_score)"
   ]
  },
  {
   "cell_type": "code",
   "execution_count": 674,
   "id": "31b5ef53",
   "metadata": {},
   "outputs": [
    {
     "data": {
      "image/png": "[encoded data removed]",
      "text/plain": [
       "<Figure size 640x480 with 1 Axes>"
      ]
     },
     "metadata": {},
     "output_type": "display_data"
    }
   ],
   "source": [
    "plt.scatter(y_train,training_data_pred)\n",
    "plt.title(\"Actual price vs predicted price\")\n",
    "plt.xlabel(\"Actual price\")\n",
    "plt.ylabel(\"predicted price\")\n",
    "plt.show()"
   ]
  },
  {
   "cell_type": "code",
   "execution_count": 675,
   "id": "5f9d1857",
   "metadata": {},
   "outputs": [
    {
     "name": "stdout",
     "output_type": "stream",
     "text": [
      "0.04384087654256482\n"
     ]
    }
   ],
   "source": [
    "test_data_pred=lr.predict(x_test)\n",
    "error_score=mean_squared_error(y_test,test_data_pred)\n",
    "print(error_score)"
   ]
  },
  {
   "cell_type": "code",
   "execution_count": 676,
   "id": "cc3b5876",
   "metadata": {},
   "outputs": [
    {
     "data": {
      "image/png": "[encoded data removed]",
      "text/plain": [
       "<Figure size 640x480 with 1 Axes>"
      ]
     },
     "metadata": {},
     "output_type": "display_data"
    }
   ],
   "source": [
    "plt.scatter(y_test,test_data_pred)\n",
    "plt.title(\"Actual price vs predicted price\")\n",
    "plt.xlabel(\"Actual price\")\n",
    "plt.ylabel(\"predicted price\")\n",
    "plt.show()"
   ]
  },
  {
   "cell_type": "code",
   "execution_count": 677,
   "id": "debfd937",
   "metadata": {},
   "outputs": [
    {
     "name": "stdout",
     "output_type": "stream",
     "text": [
      "0.8756863496588737\n",
      "0.8855799393606376\n"
     ]
    }
   ],
   "source": [
    "rf=RandomForestRegressor(n_estimators=20,max_depth=4,random_state=42)\n",
    "rf.fit(x_train,y_train)\n",
    "print(rf.score(x_train,y_train))\n",
    "print(rf.score(x_test,y_test))"
   ]
  },
  {
   "cell_type": "code",
   "execution_count": 678,
   "id": "4b3ed6b7",
   "metadata": {},
   "outputs": [
    {
     "name": "stdout",
     "output_type": "stream",
     "text": [
      "0.7644747606197463\n",
      "0.7740793968432538\n"
     ]
    }
   ],
   "source": [
    "gbr=GradientBoostingRegressor(n_estimators=10,learning_rate=0.1,random_state=42)\n",
    "gbr.fit(x_train,y_train)\n",
    "print(gbr.score(x_train,y_train))\n",
    "print(gbr.score(x_test,y_test))"
   ]
  },
  {
   "cell_type": "code",
   "execution_count": 679,
   "id": "cbd1be31",
   "metadata": {},
   "outputs": [
    {
     "name": "stdout",
     "output_type": "stream",
     "text": [
      "Best hyperparameters: {'max_depth': 20, 'max_features': 'log2', 'min_samples_leaf': 1, 'min_samples_split': 5}\n"
     ]
    }
   ],
   "source": [
    "dtr=DecisionTreeRegressor()\n",
    "param_grid={'max_depth':[2,5,10,20],\n",
    "           'min_samples_split':[2,5,10],\n",
    "           'min_samples_leaf':[1,2,4],\n",
    "           'max_features':['auto','sqrt','log2']}\n",
    "\n",
    "grid_search=GridSearchCV(estimator=dtr,param_grid=param_grid,cv=5)\n",
    "grid_search.fit(x_train,y_train)\n",
    "print('Best hyperparameters:',grid_search.best_params_)\n",
    "best_model=grid_search.best_estimator_\n",
    "y_pred=best_model.predict(x_test)"
   ]
  },
  {
   "cell_type": "code",
   "execution_count": 680,
   "id": "bce231d4",
   "metadata": {},
   "outputs": [
    {
     "name": "stdout",
     "output_type": "stream",
     "text": [
      "0.9055875507887746\n"
     ]
    }
   ],
   "source": [
    "metrics.mean_squared_error(y_test,y_pred)\n",
    "metrics.mean_absolute_error(y_test,y_pred)\n",
    "print(metrics.r2_score(y_test,y_pred))"
   ]
  },
  {
   "cell_type": "code",
   "execution_count": 681,
   "id": "dfc4fecd",
   "metadata": {},
   "outputs": [
    {
     "name": "stdout",
     "output_type": "stream",
     "text": [
      "Predicted selling price: [1112.59182979]\n"
     ]
    }
   ],
   "source": [
    "new_sample = np.array([[np.log(40), 10, np.log(250), 0, 28,30202938,1670798778,'PL','Won']])\n",
    "new_sample_ohe = ohe.transform(new_sample[:, [7]]).toarray()\n",
    "new_sample_be = ohe2.transform(new_sample[:, [8]]).toarray()\n",
    "new_sample = np.concatenate((new_sample[:, [0,1,2, 3, 4, 5, 6]], new_sample_ohe, new_sample_be), axis=1)\n",
    "new_sample1 = ss.transform(new_sample)\n",
    "new_pred = best_model.predict(new_sample1)\n",
    "print('Predicted selling price:', np.exp(new_pred))"
   ]
  },
  {
   "cell_type": "code",
   "execution_count": 682,
   "id": "8fb4f867",
   "metadata": {},
   "outputs": [],
   "source": [
    "import pickle\n",
    "path='C:/Users/silam/OneDrive/Desktop/model/'\n",
    "with open(path + 'model.pkl','wb') as file:\n",
    "    pickle.dump(best_model,file)\n",
    "with open (path + 'scaler.pkl','wb') as f:\n",
    "    pickle.dump(ss,f)\n",
    "with open(path + 't.pkl','wb') as f:\n",
    "    pickle.dump(ohe,f)\n",
    "with open(path + 's.pkl', 'wb') as f:\n",
    "    pickle.dump(ohe2, f)"
   ]
  },
  {
   "cell_type": "code",
   "execution_count": null,
   "id": "692bd63b",
   "metadata": {},
   "outputs": [],
   "source": [
    "#DECISION TREE CLASSIFIER"
   ]
  },
  {
   "cell_type": "code",
   "execution_count": 683,
   "id": "e9595c74",
   "metadata": {},
   "outputs": [],
   "source": [
    "df_2 = df.copy()\n"
   ]
  },
  {
   "cell_type": "code",
   "execution_count": 684,
   "id": "9f1324b6",
   "metadata": {},
   "outputs": [
    {
     "data": {
      "text/plain": [
       "150435"
      ]
     },
     "execution_count": 684,
     "metadata": {},
     "output_type": "execute_result"
    }
   ],
   "source": [
    "df_2 = df[df['status'].isin(['Won', 'Lost'])]\n",
    "len(df_2)"
   ]
  },
  {
   "cell_type": "code",
   "execution_count": 685,
   "id": "c98340e9",
   "metadata": {},
   "outputs": [
    {
     "data": {
      "text/plain": [
       "Won     116004\n",
       "Lost     34431\n",
       "Name: status, dtype: int64"
      ]
     },
     "execution_count": 685,
     "metadata": {},
     "output_type": "execute_result"
    }
   ],
   "source": [
    "df_2.status.value_counts()"
   ]
  },
  {
   "cell_type": "code",
   "execution_count": 686,
   "id": "7950cc45",
   "metadata": {},
   "outputs": [
    {
     "data": {
      "text/plain": [
       "id                                    item_date   quantity tons  customer    country  status  item type  application  thickness  width   material_ref                   product_ref  delivery date  selling_price\n",
       "00019923-DFC4-4167-BDB9-0F522DE6E335  2021-01-24  117.189630     30157111.0  78.0     Won     W          41.0         1.00       1246.0  G9006                          611993       2021-04-01     999.00           1\n",
       "AAB54F9F-79DA-4DBE-8A71-8799C341E10F  2020-12-10  59.510926      30201744.0  25.0     Lost    S          15.0         3.00       2020.0  unknown                        640665       2021-04-01     753.00           1\n",
       "AAAF0B0A-D756-40A6-91AE-E877D7F4AC6E  2020-07-07  5.174390       30202645.0  32.0     Won     W          10.0         1.10       1500.0  77790077108US3LOR              1668701698   2020-07-01     688.00           1\n",
       "AAAFB61B-C3B8-451C-AD77-B9E6D8E2422A  2020-09-08  8.553689       30229786.0  77.0     Lost    W          3.0          15.00      1500.0  unknown                        640405       2020-11-01     622.00           1\n",
       "AAB0BE88-1A74-4AB9-8E55-AD7B3485D5FC  2021-03-29  33.999908      30148629.0  27.0     Lost    S          41.0         0.60       1250.0  unknown                        611993       2021-08-01     1333.00          1\n",
       "                                                                                                                                                                                                                    ..\n",
       "552A03FF-866F-4495-8A96-1C248EEA6B76  2020-12-04  50.516901      30196884.0  84.0     Won     W          10.0         2.00       1138.0  114002001138                   628377       2021-01-01     780.71           1\n",
       "552A1762-3946-4AD1-A71D-6FF8BAA74E1D  2020-11-18  45.374795      30341380.0  84.0     Lost    W          41.0         0.50       1250.0  unknown                        611993       2021-04-01     1190.47          1\n",
       "552A8FA1-6964-4597-B504-2C16B2DFB084  2020-10-13  7.150848       30205658.0  32.0     Won     W          10.0         2.50       987.0   unknown                        611993       2021-01-01     930.00           1\n",
       "552ACC50-C84B-47A4-A09F-6ACA338CD715  2021-03-12  2.395488       30218705.0  25.0     Won     W          41.0         0.40       1140.0  unknown                        611993       2021-04-01     1129.00          1\n",
       "FFFFC917-6713-405F-A6B8-A69DE9160C2C  2021-01-28  11.899749      30161088.0  78.0     Won     W          10.0         0.65       1200.0  DC01 RED.FLAT KUCHNIA EKO 2.2  628377       2021-04-01     848.00           1\n",
       "Length: 150435, dtype: int64"
      ]
     },
     "execution_count": 686,
     "metadata": {},
     "output_type": "execute_result"
    }
   ],
   "source": [
    "df_2.value_counts()"
   ]
  },
  {
   "cell_type": "code",
   "execution_count": 687,
   "id": "4609d59c",
   "metadata": {},
   "outputs": [],
   "source": [
    "#x = df_2[['quantity_tons_log','selling_price_log','item type','application','thickness_log','width','country','customer','product_ref']]\n",
    "\n",
    "#y =df_2['status']"
   ]
  },
  {
   "cell_type": "code",
   "execution_count": 688,
   "id": "0c310cd9",
   "metadata": {},
   "outputs": [],
   "source": [
    "OE = OrdinalEncoder()\n",
    "df_2.status = OE.fit_transform(df_2[['status']])\n",
    "df_2['item type'] = OE.fit_transform(df_2[['item type']])"
   ]
  },
  {
   "cell_type": "code",
   "execution_count": 689,
   "id": "49a6d18b",
   "metadata": {},
   "outputs": [],
   "source": [
    "#x= np.concatenate((x[['quantity_tons_log','selling_price_log','item type','application','thickness_log','width','country','customer','product_ref']]\n",
    "#.values), axis=1)\n"
   ]
  },
  {
   "cell_type": "code",
   "execution_count": 690,
   "id": "19cc1161",
   "metadata": {},
   "outputs": [],
   "source": [
    "X = df_2[['quantity tons','selling_price','item type','application','thickness','width','country','customer','product_ref']]\n",
    "y = df_2['status']"
   ]
  },
  {
   "cell_type": "code",
   "execution_count": 691,
   "id": "7f17f8bb",
   "metadata": {},
   "outputs": [],
   "source": [
    "#X = np.concatenate((X[['quantity tons','selling_price','item type','application','thickness','width','country','customer','product_ref']].values), axis=1)\n"
   ]
  },
  {
   "cell_type": "markdown",
   "id": "4cb209c9",
   "metadata": {},
   "source": []
  },
  {
   "cell_type": "code",
   "execution_count": 692,
   "id": "e1c5ac71",
   "metadata": {},
   "outputs": [
    {
     "data": {
      "text/plain": [
       "array([[ 0.41506739, -0.87956189,  0.22814024, ..., -0.15323927,\n",
       "         0.75215932, -0.00234649],\n",
       "       [ 2.25042993,  0.8665426 , -0.75339772, ..., -0.15323927,\n",
       "         0.75215932, -0.00234649],\n",
       "       [ 1.77453529,  0.13430523, -1.55084831, ..., -0.15323927,\n",
       "         0.75215932, -0.00234649],\n",
       "       ...,\n",
       "       [ 1.34669579,  0.8665426 , -0.56931035, ..., -0.15323927,\n",
       "         0.75215932, -0.00234649],\n",
       "       [-1.34846834,  0.8665426 , -0.88124292, ..., -0.15323927,\n",
       "         0.75215932, -0.00234649],\n",
       "       [ 1.81043496,  0.8665426 , -0.88124292, ..., -0.15323927,\n",
       "         0.75215932, -0.00234649]])"
      ]
     },
     "execution_count": 692,
     "metadata": {},
     "output_type": "execute_result"
    }
   ],
   "source": [
    "ss.fit_transform(x)"
   ]
  },
  {
   "cell_type": "code",
   "execution_count": 693,
   "id": "09da68cc",
   "metadata": {},
   "outputs": [
    {
     "name": "stdout",
     "output_type": "stream",
     "text": [
      "(120348, 9)\n",
      "(30087, 9)\n",
      "(120348,)\n",
      "(30087,)\n"
     ]
    }
   ],
   "source": [
    "from sklearn.model_selection import train_test_split\n",
    "X_train, X_test, y_train, y_test = train_test_split(X, y, test_size = 0.2, random_state = 5)\n",
    "print(X_train.shape)\n",
    "print(X_test.shape)\n",
    "print(y_train.shape)\n",
    "print(y_test.shape)"
   ]
  },
  {
   "cell_type": "code",
   "execution_count": 694,
   "id": "f0e68ba5",
   "metadata": {},
   "outputs": [],
   "source": [
    "from sklearn.tree import DecisionTreeClassifier\n",
    "from sklearn.neighbors import KNeighborsClassifier\n",
    "from sklearn.ensemble import RandomForestClassifier\n",
    "from sklearn.ensemble import GradientBoostingClassifier\n",
    "from sklearn.linear_model import LogisticRegression"
   ]
  },
  {
   "cell_type": "code",
   "execution_count": 695,
   "id": "3b670fc8",
   "metadata": {},
   "outputs": [
    {
     "name": "stdout",
     "output_type": "stream",
     "text": [
      "0.8141888523282481\n",
      "0.8147704988865623\n"
     ]
    }
   ],
   "source": [
    "dtc = DecisionTreeClassifier(max_depth = 5, random_state = 1)\n",
    "dtc.fit(X_train, y_train)\n",
    "train_score = dtc.score(X_train, y_train)\n",
    "test_score = dtc.score(X_test, y_test)\n",
    "print(train_score)\n",
    "print(test_score)"
   ]
  },
  {
   "cell_type": "code",
   "execution_count": 696,
   "id": "0b3f6e3e",
   "metadata": {},
   "outputs": [
    {
     "name": "stdout",
     "output_type": "stream",
     "text": [
      "0.9251005417622229\n",
      "0.8944062219563267\n"
     ]
    }
   ],
   "source": [
    "knn = KNeighborsClassifier(n_neighbors = 6)\n",
    "knn.fit(X_train, y_train)\n",
    "print(knn.score(X_train, y_train))\n",
    "print(knn.score(X_test, y_test))"
   ]
  },
  {
   "cell_type": "code",
   "execution_count": 697,
   "id": "c3a0d803",
   "metadata": {},
   "outputs": [
    {
     "name": "stdout",
     "output_type": "stream",
     "text": [
      "0.819540000664739\n",
      "0.8204872536311364\n"
     ]
    }
   ],
   "source": [
    "gbc = GradientBoostingClassifier(n_estimators = 30, learning_rate = 0.1,random_state = 28)\n",
    "gbc.fit(X_train, y_train)\n",
    "print(gbc.score(X_train, y_train))\n",
    "print(gbc.score(X_test, y_test))"
   ]
  },
  {
   "cell_type": "code",
   "execution_count": 698,
   "id": "bd2e390a",
   "metadata": {},
   "outputs": [
    {
     "name": "stdout",
     "output_type": "stream",
     "text": [
      "0.8197809685246119\n",
      "0.8201548841692425\n"
     ]
    }
   ],
   "source": [
    "rfc = RandomForestClassifier(n_estimators = 20, max_depth =6,random_state = 35)\n",
    "rfc.fit(X_train, y_train)\n",
    "print(rfc.score(X_train, y_train))\n",
    "print(rfc.score(X_test, y_test))"
   ]
  },
  {
   "cell_type": "code",
   "execution_count": 699,
   "id": "ac26f8e3",
   "metadata": {},
   "outputs": [
    {
     "name": "stdout",
     "output_type": "stream",
     "text": [
      "0.771612324259647\n",
      "0.7691694087147273\n"
     ]
    }
   ],
   "source": [
    "LR = LogisticRegression()\n",
    "LR.fit(X_train,y_train)\n",
    "print(LR.score(X_train, y_train))\n",
    "print(LR.score(X_test, y_test))"
   ]
  },
  {
   "cell_type": "code",
   "execution_count": 700,
   "id": "ea28c0bb",
   "metadata": {},
   "outputs": [
    {
     "name": "stdout",
     "output_type": "stream",
     "text": [
      "[01:33:56] WARNING: C:\\buildkite-agent\\builds\\buildkite-windows-cpu-autoscaling-group-i-0fdc6d574b9c0d168-1\\xgboost\\xgboost-ci-windows\\src\\objective\\regression_obj.cu:213: reg:linear is now deprecated in favor of reg:squarederror.\n"
     ]
    },
    {
     "data": {
      "text/plain": [
       "0.6061815652265559"
      ]
     },
     "execution_count": 700,
     "metadata": {},
     "output_type": "execute_result"
    }
   ],
   "source": [
    "from sklearn.metrics import auc, accuracy_score, confusion_matrix, mean_squared_error\n",
    "import xgboost as xgb\n",
    "xgb_model = xgb.XGBRegressor(objective=\"reg:linear\", random_state=42)\n",
    "xgb_model.fit(X_train, y_train)\n",
    "xgb_model.score(X_train, y_train)"
   ]
  },
  {
   "cell_type": "code",
   "execution_count": 701,
   "id": "e69b92bc",
   "metadata": {},
   "outputs": [
    {
     "data": {
      "text/plain": [
       "0.07638293888123737"
      ]
     },
     "execution_count": 701,
     "metadata": {},
     "output_type": "execute_result"
    }
   ],
   "source": [
    "y_predict=xgb_model.predict(X_test)\n",
    "mean_squared_error(y_test,y_predict)"
   ]
  },
  {
   "cell_type": "code",
   "execution_count": 702,
   "id": "9d521121",
   "metadata": {},
   "outputs": [
    {
     "data": {
      "text/html": [
       "<style>#sk-container-id-5 {color: black;}#sk-container-id-5 pre{padding: 0;}#sk-container-id-5 div.sk-toggleable {background-color: white;}#sk-container-id-5 label.sk-toggleable__label {cursor: pointer;display: block;width: 100%;margin-bottom: 0;padding: 0.3em;box-sizing: border-box;text-align: center;}#sk-container-id-5 label.sk-toggleable__label-arrow:before {content: \"▸\";float: left;margin-right: 0.25em;color: #696969;}#sk-container-id-5 label.sk-toggleable__label-arrow:hover:before {color: black;}#sk-container-id-5 div.sk-estimator:hover label.sk-toggleable__label-arrow:before {color: black;}#sk-container-id-5 div.sk-toggleable__content {max-height: 0;max-width: 0;overflow: hidden;text-align: left;background-color: #f0f8ff;}#sk-container-id-5 div.sk-toggleable__content pre {margin: 0.2em;color: black;border-radius: 0.25em;background-color: #f0f8ff;}#sk-container-id-5 input.sk-toggleable__control:checked~div.sk-toggleable__content {max-height: 200px;max-width: 100%;overflow: auto;}#sk-container-id-5 input.sk-toggleable__control:checked~label.sk-toggleable__label-arrow:before {content: \"▾\";}#sk-container-id-5 div.sk-estimator input.sk-toggleable__control:checked~label.sk-toggleable__label {background-color: #d4ebff;}#sk-container-id-5 div.sk-label input.sk-toggleable__control:checked~label.sk-toggleable__label {background-color: #d4ebff;}#sk-container-id-5 input.sk-hidden--visually {border: 0;clip: rect(1px 1px 1px 1px);clip: rect(1px, 1px, 1px, 1px);height: 1px;margin: -1px;overflow: hidden;padding: 0;position: absolute;width: 1px;}#sk-container-id-5 div.sk-estimator {font-family: monospace;background-color: #f0f8ff;border: 1px dotted black;border-radius: 0.25em;box-sizing: border-box;margin-bottom: 0.5em;}#sk-container-id-5 div.sk-estimator:hover {background-color: #d4ebff;}#sk-container-id-5 div.sk-parallel-item::after {content: \"\";width: 100%;border-bottom: 1px solid gray;flex-grow: 1;}#sk-container-id-5 div.sk-label:hover label.sk-toggleable__label {background-color: #d4ebff;}#sk-container-id-5 div.sk-serial::before {content: \"\";position: absolute;border-left: 1px solid gray;box-sizing: border-box;top: 0;bottom: 0;left: 50%;z-index: 0;}#sk-container-id-5 div.sk-serial {display: flex;flex-direction: column;align-items: center;background-color: white;padding-right: 0.2em;padding-left: 0.2em;position: relative;}#sk-container-id-5 div.sk-item {position: relative;z-index: 1;}#sk-container-id-5 div.sk-parallel {display: flex;align-items: stretch;justify-content: center;background-color: white;position: relative;}#sk-container-id-5 div.sk-item::before, #sk-container-id-5 div.sk-parallel-item::before {content: \"\";position: absolute;border-left: 1px solid gray;box-sizing: border-box;top: 0;bottom: 0;left: 50%;z-index: -1;}#sk-container-id-5 div.sk-parallel-item {display: flex;flex-direction: column;z-index: 1;position: relative;background-color: white;}#sk-container-id-5 div.sk-parallel-item:first-child::after {align-self: flex-end;width: 50%;}#sk-container-id-5 div.sk-parallel-item:last-child::after {align-self: flex-start;width: 50%;}#sk-container-id-5 div.sk-parallel-item:only-child::after {width: 0;}#sk-container-id-5 div.sk-dashed-wrapped {border: 1px dashed gray;margin: 0 0.4em 0.5em 0.4em;box-sizing: border-box;padding-bottom: 0.4em;background-color: white;}#sk-container-id-5 div.sk-label label {font-family: monospace;font-weight: bold;display: inline-block;line-height: 1.2em;}#sk-container-id-5 div.sk-label-container {text-align: center;}#sk-container-id-5 div.sk-container {/* jupyter's `normalize.less` sets `[hidden] { display: none; }` but bootstrap.min.css set `[hidden] { display: none !important; }` so we also need the `!important` here to be able to override the default hidden behavior on the sphinx rendered scikit-learn.org. See: https://github.com/scikit-learn/scikit-learn/issues/21755 */display: inline-block !important;position: relative;}#sk-container-id-5 div.sk-text-repr-fallback {display: none;}</style><div id=\"sk-container-id-5\" class=\"sk-top-container\"><div class=\"sk-text-repr-fallback\"><pre>XGBRegressor(base_score=None, booster=None, callbacks=None,\n",
       "             colsample_bylevel=None, colsample_bynode=None,\n",
       "             colsample_bytree=None, early_stopping_rounds=None,\n",
       "             enable_categorical=False, eval_metric=None, feature_types=None,\n",
       "             gamma=None, gpu_id=None, grow_policy=None, importance_type=None,\n",
       "             interaction_constraints=None, learning_rate=None, max_bin=None,\n",
       "             max_cat_threshold=None, max_cat_to_onehot=None,\n",
       "             max_delta_step=None, max_depth=None, max_leaves=None,\n",
       "             min_child_weight=None, missing=nan, monotone_constraints=None,\n",
       "             n_estimators=100, n_jobs=None, num_parallel_tree=None,\n",
       "             objective=&#x27;reg:linear&#x27;, predictor=None, ...)</pre><b>In a Jupyter environment, please rerun this cell to show the HTML representation or trust the notebook. <br />On GitHub, the HTML representation is unable to render, please try loading this page with nbviewer.org.</b></div><div class=\"sk-container\" hidden><div class=\"sk-item\"><div class=\"sk-estimator sk-toggleable\"><input class=\"sk-toggleable__control sk-hidden--visually\" id=\"sk-estimator-id-5\" type=\"checkbox\" checked><label for=\"sk-estimator-id-5\" class=\"sk-toggleable__label sk-toggleable__label-arrow\">XGBRegressor</label><div class=\"sk-toggleable__content\"><pre>XGBRegressor(base_score=None, booster=None, callbacks=None,\n",
       "             colsample_bylevel=None, colsample_bynode=None,\n",
       "             colsample_bytree=None, early_stopping_rounds=None,\n",
       "             enable_categorical=False, eval_metric=None, feature_types=None,\n",
       "             gamma=None, gpu_id=None, grow_policy=None, importance_type=None,\n",
       "             interaction_constraints=None, learning_rate=None, max_bin=None,\n",
       "             max_cat_threshold=None, max_cat_to_onehot=None,\n",
       "             max_delta_step=None, max_depth=None, max_leaves=None,\n",
       "             min_child_weight=None, missing=nan, monotone_constraints=None,\n",
       "             n_estimators=100, n_jobs=None, num_parallel_tree=None,\n",
       "             objective=&#x27;reg:linear&#x27;, predictor=None, ...)</pre></div></div></div></div></div>"
      ],
      "text/plain": [
       "XGBRegressor(base_score=None, booster=None, callbacks=None,\n",
       "             colsample_bylevel=None, colsample_bynode=None,\n",
       "             colsample_bytree=None, early_stopping_rounds=None,\n",
       "             enable_categorical=False, eval_metric=None, feature_types=None,\n",
       "             gamma=None, gpu_id=None, grow_policy=None, importance_type=None,\n",
       "             interaction_constraints=None, learning_rate=None, max_bin=None,\n",
       "             max_cat_threshold=None, max_cat_to_onehot=None,\n",
       "             max_delta_step=None, max_depth=None, max_leaves=None,\n",
       "             min_child_weight=None, missing=nan, monotone_constraints=None,\n",
       "             n_estimators=100, n_jobs=None, num_parallel_tree=None,\n",
       "             objective='reg:linear', predictor=None, ...)"
      ]
     },
     "execution_count": 702,
     "metadata": {},
     "output_type": "execute_result"
    }
   ],
   "source": [
    "xgb_model"
   ]
  },
  {
   "cell_type": "code",
   "execution_count": 703,
   "id": "a00f1e9c",
   "metadata": {},
   "outputs": [
    {
     "name": "stdout",
     "output_type": "stream",
     "text": [
      "1.0\n",
      "0.933027553428391\n"
     ]
    }
   ],
   "source": [
    "from sklearn.ensemble import ExtraTreesClassifier\n",
    "clf=ExtraTreesClassifier(n_estimators=20,random_state=0)\n",
    "clf.fit(X_train,y_train)\n",
    "print(clf.score(X_train,y_train))\n",
    "print(clf.score(X_test,y_test))"
   ]
  },
  {
   "cell_type": "code",
   "execution_count": 704,
   "id": "44f51a7f",
   "metadata": {},
   "outputs": [
    {
     "data": {
      "text/plain": [
       "array([0., 1., 1., ..., 0., 1., 0.])"
      ]
     },
     "execution_count": 704,
     "metadata": {},
     "output_type": "execute_result"
    }
   ],
   "source": [
    "knn.predict(X_test)"
   ]
  },
  {
   "cell_type": "code",
   "execution_count": 705,
   "id": "60337794",
   "metadata": {},
   "outputs": [],
   "source": [
    "y_pred=knn.predict(X_test)"
   ]
  },
  {
   "cell_type": "code",
   "execution_count": 706,
   "id": "3b2974a3",
   "metadata": {},
   "outputs": [
    {
     "data": {
      "text/plain": [
       "array([[ 5557,  1388],\n",
       "       [ 1789, 21353]], dtype=int64)"
      ]
     },
     "execution_count": 706,
     "metadata": {},
     "output_type": "execute_result"
    }
   ],
   "source": [
    "from sklearn.metrics import confusion_matrix\n",
    "cm=confusion_matrix(y_test,y_pred)\n",
    "cm"
   ]
  },
  {
   "cell_type": "code",
   "execution_count": 707,
   "id": "36057c86",
   "metadata": {},
   "outputs": [
    {
     "data": {
      "text/plain": [
       "Text(95.72222222222221, 0.5, 'Actual')"
      ]
     },
     "execution_count": 707,
     "metadata": {},
     "output_type": "execute_result"
    },
    {
     "data": {
      "image/png": "[encoded data removed]",
      "text/plain": [
       "<Figure size 1000x500 with 2 Axes>"
      ]
     },
     "metadata": {},
     "output_type": "display_data"
    }
   ],
   "source": [
    "plt.figure(figsize=(10,5))\n",
    "sns.heatmap(cm,annot=True)\n",
    "plt.xlabel('Truth')\n",
    "plt.ylabel('Actual')"
   ]
  },
  {
   "cell_type": "code",
   "execution_count": 708,
   "id": "0d0a46aa",
   "metadata": {},
   "outputs": [],
   "source": [
    "from sklearn.metrics import accuracy_score, f1_score,classification_report, roc_curve, auc,ConfusionMatrixDisplay"
   ]
  },
  {
   "cell_type": "code",
   "execution_count": 709,
   "id": "abb37200",
   "metadata": {},
   "outputs": [
    {
     "data": {
      "text/plain": [
       "0.854225461327037"
      ]
     },
     "execution_count": 709,
     "metadata": {},
     "output_type": "execute_result"
    }
   ],
   "source": [
    "accuracy_score(y_test,y_pred)\n",
    "f1_score(y_test,y_pred,average='macro')"
   ]
  },
  {
   "cell_type": "code",
   "execution_count": 710,
   "id": "8dfabc6e",
   "metadata": {},
   "outputs": [
    {
     "data": {
      "image/png": "[encoded data removed]",
      "text/plain": [
       "<Figure size 640x480 with 2 Axes>"
      ]
     },
     "metadata": {},
     "output_type": "display_data"
    }
   ],
   "source": [
    "ConfusionMatrixDisplay.from_estimator(knn,X_test,y_test);"
   ]
  },
  {
   "cell_type": "code",
   "execution_count": 711,
   "id": "e96724f1",
   "metadata": {},
   "outputs": [
    {
     "data": {
      "image/png": "[encoded data removed]",
      "text/plain": [
       "<Figure size 640x480 with 1 Axes>"
      ]
     },
     "metadata": {},
     "output_type": "display_data"
    }
   ],
   "source": [
    "fpr,tpr,thresholds=roc_curve(y_test,y_pred)\n",
    "roc_auc=auc(fpr,tpr)\n",
    "plt.plot(fpr,tpr,label='ROC curve (area=%0.2f)'% roc_auc)\n",
    "plt.plot([0,1],[0,1],'m-')\n",
    "plt.xlim([0.0,1])\n",
    "plt.ylim([0.0,1.2])\n",
    "plt.xlabel('False Positive Rate')\n",
    "plt.ylabel('True Positive Rate')\n",
    "plt.title('ROC Curve')\n",
    "plt.legend()\n",
    "plt.show()"
   ]
  },
  {
   "cell_type": "code",
   "execution_count": 712,
   "id": "07fee131",
   "metadata": {},
   "outputs": [
    {
     "name": "stdout",
     "output_type": "stream",
     "text": [
      "              precision    recall  f1-score   support\n",
      "\n",
      "         0.0       0.76      0.80      0.78      6945\n",
      "         1.0       0.94      0.92      0.93     23142\n",
      "\n",
      "    accuracy                           0.89     30087\n",
      "   macro avg       0.85      0.86      0.85     30087\n",
      "weighted avg       0.90      0.89      0.90     30087\n",
      "\n"
     ]
    }
   ],
   "source": [
    "print(classification_report(y_test,y_pred))"
   ]
  },
  {
   "cell_type": "code",
   "execution_count": null,
   "id": "22da6da4",
   "metadata": {},
   "outputs": [],
   "source": []
  },
  {
   "cell_type": "code",
   "execution_count": 713,
   "id": "2bcb9462",
   "metadata": {},
   "outputs": [],
   "source": [
    "# Saving the model\n",
    "import pickle\n",
    "path='C:/Users/silam/OneDrive/Desktop/model/'\n",
    "with open(path + 'cmodel.pkl', 'wb') as file:\n",
    "    pickle.dump(dtc, file)\n",
    "with open(path  +'cscaler.pkl', 'wb') as f:\n",
    "    pickle.dump(ss, f)\n",
    "with open(path + 'ct.pkl', 'wb') as f:\n",
    "    pickle.dump(OE, f)"
   ]
  },
  {
   "cell_type": "code",
   "execution_count": null,
   "id": "73f7f29a",
   "metadata": {},
   "outputs": [],
   "source": []
  },
  {
   "cell_type": "code",
   "execution_count": null,
   "id": "4d9af8b3",
   "metadata": {},
   "outputs": [],
   "source": []
  }
 ],
 "metadata": {
  "kernelspec": {
   "display_name": "Python 3 (ipykernel)",
   "language": "python",
   "name": "python3"
  },
  "language_info": {
   "codemirror_mode": {
    "name": "ipython",
    "version": 3
   },
   "file_extension": ".py",
   "mimetype": "text/x-python",
   "name": "python",
   "nbconvert_exporter": "python",
   "pygments_lexer": "ipython3",
   "version": "3.11.1"
  }
 },
 "nbformat": 4,
 "nbformat_minor": 5
}
